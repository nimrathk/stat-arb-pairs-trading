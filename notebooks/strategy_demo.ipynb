{
 "cells": [
  {
   "cell_type": "markdown",
   "id": "744a70ed",
   "metadata": {},
   "source": [
    "# Statistical Arbitrage: Pairs Trading Strategy\n",
    "This notebook demonstrates how to identify cointegrated pairs, calculate Z-scores, generate trade signals, and backtest a simple pairs trading strategy."
   ]
  },
  {
   "cell_type": "code",
   "execution_count": null,
   "id": "efdd8d6e",
   "metadata": {},
   "outputs": [],
   "source": [
    "import pandas as pd\n",
    "import matplotlib.pyplot as plt\n",
    "from src.cointegration import find_cointegrated_pairs\n",
    "from src.strategy import calculate_zscore, generate_trade_signals\n",
    "from src.backtest import backtest_strategy\n"
   ]
  },
  {
   "cell_type": "code",
   "execution_count": null,
   "id": "afff9151",
   "metadata": {},
   "outputs": [],
   "source": [
    "# Load price data\n",
    "data = pd.read_csv('data/sample_prices.csv', index_col=0, parse_dates=True)\n",
    "data = data.dropna(axis=1)\n",
    "data.head()\n"
   ]
  },
  {
   "cell_type": "code",
   "execution_count": null,
   "id": "254ddaa9",
   "metadata": {},
   "outputs": [],
   "source": [
    "# Find cointegrated pairs\n",
    "pairs, _ = find_cointegrated_pairs(data)\n",
    "print(\"Cointegrated pairs (p < 0.05):\")\n",
    "for pair in pairs:\n",
    "    print(pair)\n"
   ]
  },
  {
   "cell_type": "code",
   "execution_count": null,
   "id": "108abfa9",
   "metadata": {},
   "outputs": [],
   "source": [
    "# Select one cointegrated pair\n",
    "ticker1, ticker2, _ = pairs[0]\n",
    "prices1 = data[ticker1]\n",
    "prices2 = data[ticker2]\n",
    "spread = prices1 - prices2\n"
   ]
  },
  {
   "cell_type": "code",
   "execution_count": null,
   "id": "98f7e198",
   "metadata": {},
   "outputs": [],
   "source": [
    "# Calculate Z-score\n",
    "zscore = calculate_zscore(spread)\n",
    "\n",
    "plt.figure(figsize=(12, 6))\n",
    "plt.plot(zscore, label='Z-score')\n",
    "plt.axhline(2.0, color='red', linestyle='--', label='Entry Threshold')\n",
    "plt.axhline(-2.0, color='green', linestyle='--')\n",
    "plt.axhline(0, color='black', linestyle='-')\n",
    "plt.legend()\n",
    "plt.title(f'Z-score Spread: {ticker1} - {ticker2}')\n",
    "plt.show()\n"
   ]
  },
  {
   "cell_type": "code",
   "execution_count": null,
   "id": "9a5c2284",
   "metadata": {},
   "outputs": [],
   "source": [
    "# Generate trade signals\n",
    "signals = generate_trade_signals(zscore)\n",
    "signals.value_counts()\n"
   ]
  },
  {
   "cell_type": "code",
   "execution_count": null,
   "id": "3e3b44e0",
   "metadata": {},
   "outputs": [],
   "source": [
    "# Backtest strategy\n",
    "results = backtest_strategy(prices1, prices2, signals)\n",
    "print(f\"Final Portfolio Value: ${results['final_value']:.2f}\")\n",
    "print(f\"Cumulative Return: {results['cumulative_return'] * 100:.2f}%\")\n",
    "print(f\"Sharpe Ratio: {results['sharpe_ratio']:.2f}\")\n"
   ]
  }
 ],
 "metadata": {
  "language_info": {
   "name": "python"
  }
 },
 "nbformat": 4,
 "nbformat_minor": 5
}
